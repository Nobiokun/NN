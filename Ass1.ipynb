{
 "cells": [
  {
   "cell_type": "code",
   "execution_count": null,
   "id": "1587ae26-2d03-4bda-a290-833b3c2837c3",
   "metadata": {},
   "outputs": [],
   "source": [
    "import pandas as pd"
   ]
  },
  {
   "cell_type": "code",
   "execution_count": null,
   "id": "e59c011b-eb2b-407f-a87a-561645bea2e9",
   "metadata": {},
   "outputs": [],
   "source": [
    "df= pd.read_csv(\"Heart.csv\")"
   ]
  },
  {
   "cell_type": "code",
   "execution_count": null,
   "id": "2e13f47d-711e-4ffb-beed-eed2f7394481",
   "metadata": {},
   "outputs": [],
   "source": [
    "df.head()"
   ]
  },
  {
   "cell_type": "code",
   "execution_count": null,
   "id": "fc1856d6-326b-4574-9479-b11a92e8a586",
   "metadata": {},
   "outputs": [],
   "source": [
    "df.shape"
   ]
  },
  {
   "cell_type": "code",
   "execution_count": null,
   "id": "1b2e9c6c-19eb-4a92-93af-b5387dbce4f8",
   "metadata": {},
   "outputs": [],
   "source": [
    "df.isnull()"
   ]
  },
  {
   "cell_type": "code",
   "execution_count": null,
   "id": "685722c0-7eb4-429a-bd65-e8765081609d",
   "metadata": {},
   "outputs": [],
   "source": [
    "df.isnull().sum()"
   ]
  },
  {
   "cell_type": "code",
   "execution_count": null,
   "id": "9f669ef3-f405-43bb-99fe-39be5165e3c7",
   "metadata": {},
   "outputs": [],
   "source": [
    "df.isnull().count()"
   ]
  },
  {
   "cell_type": "code",
   "execution_count": null,
   "id": "455e957e-cbae-4530-9dd7-7ca5c1a35714",
   "metadata": {},
   "outputs": [],
   "source": [
    "df.isnull().info()"
   ]
  },
  {
   "cell_type": "code",
   "execution_count": null,
   "id": "81e0e6af-4e6f-4251-a71a-9874d08f6f60",
   "metadata": {},
   "outputs": [],
   "source": [
    "df.dtypes"
   ]
  },
  {
   "cell_type": "code",
   "execution_count": null,
   "id": "41e63c93-87cd-4c0e-97bd-cbab5e4ce14c",
   "metadata": {},
   "outputs": [],
   "source": [
    "df==0"
   ]
  },
  {
   "cell_type": "code",
   "execution_count": null,
   "id": "f690bdbb-862d-4a4c-92a7-8a31dba653d8",
   "metadata": {},
   "outputs": [],
   "source": [
    "df[df==0].count()"
   ]
  },
  {
   "cell_type": "code",
   "execution_count": null,
   "id": "93b3d0f6-808e-4b95-8748-4ed3253c2188",
   "metadata": {},
   "outputs": [],
   "source": [
    "df.columns"
   ]
  },
  {
   "cell_type": "code",
   "execution_count": null,
   "id": "a7d7e601-d24c-425d-8f88-40131a6e163c",
   "metadata": {},
   "outputs": [],
   "source": [
    "df['Age'].mean()"
   ]
  },
  {
   "cell_type": "code",
   "execution_count": null,
   "id": "317e2b26-2cfc-41ba-9d94-00f1e7145bdc",
   "metadata": {},
   "outputs": [],
   "source": [
    "df[[ 'Age', 'Sex', 'ChestPain', 'RestBP', 'Chol']]"
   ]
  },
  {
   "cell_type": "code",
   "execution_count": null,
   "id": "06f1ece6-fb5d-4fcc-8948-5fbeb106c95b",
   "metadata": {},
   "outputs": [],
   "source": [
    "from sklearn.model_selection import train_test_split"
   ]
  },
  {
   "cell_type": "code",
   "execution_count": null,
   "id": "49ba4063-7b1b-42e6-919e-631a3888c57d",
   "metadata": {},
   "outputs": [],
   "source": [
    "train, test = train_test_split(df, random_state=0, test_size = 0.25)"
   ]
  },
  {
   "cell_type": "code",
   "execution_count": null,
   "id": "b7ed7eff-a2fd-49b2-b03c-4615b04afffc",
   "metadata": {},
   "outputs": [],
   "source": [
    "train.shape"
   ]
  },
  {
   "cell_type": "code",
   "execution_count": null,
   "id": "b6223bb4-195c-40b2-bcb2-2779eeda5bb0",
   "metadata": {},
   "outputs": [],
   "source": [
    "test.shape"
   ]
  }
 ],
 "metadata": {
  "kernelspec": {
   "display_name": "Python 3 (ipykernel)",
   "language": "python",
   "name": "python3"
  },
  "language_info": {
   "codemirror_mode": {
    "name": "ipython",
    "version": 3
   },
   "file_extension": ".py",
   "mimetype": "text/x-python",
   "name": "python",
   "nbconvert_exporter": "python",
   "pygments_lexer": "ipython3",
   "version": "3.12.0"
  }
 },
 "nbformat": 4,
 "nbformat_minor": 5
}
